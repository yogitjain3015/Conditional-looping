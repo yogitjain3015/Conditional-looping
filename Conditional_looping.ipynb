{
  "nbformat": 4,
  "nbformat_minor": 0,
  "metadata": {
    "colab": {
      "provenance": [],
      "authorship_tag": "ABX9TyOlPBInSM42CwtyfJxtfO9/",
      "include_colab_link": true
    },
    "kernelspec": {
      "name": "python3",
      "display_name": "Python 3"
    },
    "language_info": {
      "name": "python"
    }
  },
  "cells": [
    {
      "cell_type": "markdown",
      "metadata": {
        "id": "view-in-github",
        "colab_type": "text"
      },
      "source": [
        "<a href=\"https://colab.research.google.com/github/yogitjain3015/Conditional-looping/blob/main/Conditional_looping.ipynb\" target=\"_parent\"><img src=\"https://colab.research.google.com/assets/colab-badge.svg\" alt=\"Open In Colab\"/></a>"
      ]
    },
    {
      "cell_type": "code",
      "source": [
        "list1=[12,-7,5,64,-14]\n",
        "print(\"Positive numbers in\",list1,\"are: \")\n",
        "  \n",
        "#traversing\n",
        "for i in list1:   \n",
        "    # checking condition\n",
        "    if i >= 0:\n",
        "       print(i, end = \" \")"
      ],
      "metadata": {
        "colab": {
          "base_uri": "https://localhost:8080/"
        },
        "id": "re5GYKzfVNDn",
        "outputId": "fb5c00a1-b479-4d3e-b60d-21a80e98bef4"
      },
      "execution_count": null,
      "outputs": [
        {
          "output_type": "stream",
          "name": "stdout",
          "text": [
            "Positive numbers in [12, -7, 5, 64, -14] are: \n",
            "12 5 64 "
          ]
        }
      ]
    }
  ]
}